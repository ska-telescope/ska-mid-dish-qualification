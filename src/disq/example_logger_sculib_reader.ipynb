{
 "cells": [
  {
   "cell_type": "code",
   "execution_count": null,
   "metadata": {},
   "outputs": [],
   "source": [
    "import logger as log\n",
    "import sculib\n",
    "import reader\n",
    "import time"
   ]
  },
  {
   "cell_type": "code",
   "execution_count": null,
   "metadata": {},
   "outputs": [],
   "source": [
    "client = sculib.scu()\n",
    "logger = log.Logger(high_level_library=client)"
   ]
  },
  {
   "cell_type": "code",
   "execution_count": null,
   "metadata": {},
   "outputs": [],
   "source": [
    "nodes = [\"MockData.sine_value\", \"MockData.cosine_value\", \"a\"]\n",
    "nodes1 = [\"MockData.increment\", \"MockData.decrement\", \"MockData.bool\", \"MockData.enum\"]\n",
    "logger.add_nodes(nodes, 50)\n",
    "logger.add_nodes(nodes1, 100)"
   ]
  },
  {
   "cell_type": "code",
   "execution_count": null,
   "metadata": {},
   "outputs": [],
   "source": [
    "logger._FLUSH_DOUBLE = 1024\n",
    "logger._FLUSH_PERIOD_MSECS = 2000\n",
    "logger.start()\n",
    "time.sleep(6)\n",
    "logger.stop()"
   ]
  },
  {
   "cell_type": "code",
   "execution_count": null,
   "metadata": {},
   "outputs": [],
   "source": [
    "data = reader.Reader(logger.file)\n",
    "logger.wait_for_completion()\n",
    "data.fill(\"MockData.enum\", logger.start_time, logger.stop_time)\n",
    "data.plot()"
   ]
  }
 ],
 "metadata": {
  "kernelspec": {
   "display_name": ".venv",
   "language": "python",
   "name": "python3"
  },
  "language_info": {
   "codemirror_mode": {
    "name": "ipython",
    "version": 3
   },
   "file_extension": ".py",
   "mimetype": "text/x-python",
   "name": "python",
   "nbconvert_exporter": "python",
   "pygments_lexer": "ipython3",
   "version": "3.10.12"
  },
  "orig_nbformat": 4
 },
 "nbformat": 4,
 "nbformat_minor": 2
}
