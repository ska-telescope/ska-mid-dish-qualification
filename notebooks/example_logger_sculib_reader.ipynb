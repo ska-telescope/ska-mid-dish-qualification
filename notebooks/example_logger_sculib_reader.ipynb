{
 "cells": [
  {
   "cell_type": "code",
   "execution_count": null,
   "metadata": {},
   "outputs": [],
   "source": [
    "import logger as log\n",
    "import sculib\n",
    "import reader\n",
    "import time"
   ]
  },
  {
   "cell_type": "code",
   "execution_count": null,
   "metadata": {},
   "outputs": [],
   "source": [
    "client = sculib.scu()\n",
    "logger = log.Logger(high_level_library=client)"
   ]
  },
  {
   "cell_type": "code",
   "execution_count": null,
   "metadata": {},
   "outputs": [],
   "source": [
    "nodes = [\"MockData.sine_value\", \"MockData.cosine_value\", \"a\"]\n",
    "nodes1 = [\"MockData.increment\", \"MockData.decrement\", \"MockData.bool\", \"MockData.enum\"]\n",
    "nodes2 = [\n",
    "    \"MockData.enum_stress6\",\n",
    "    \"MockData.enum_stress7\",\n",
    "    \"MockData.enum_stress8\",\n",
    "    \"MockData.enum_stress9\",\n",
    "    \"MockData.enum_stress10\",\n",
    "    \"MockData.enum_stress11\",\n",
    "    \"MockData.enum_stress12\",\n",
    "    \"MockData.enum_stress13\",\n",
    "    \"MockData.enum_stress14\",\n",
    "    \"MockData.enum_stress15\",\n",
    "    \"MockData.enum_stress16\",\n",
    "    \"MockData.enum_stress17\",\n",
    "    \"MockData.enum_stress18\",\n",
    "    \"MockData.enum_stress19\",\n",
    "    \"MockData.enum_stress21\",\n",
    "    \"MockData.enum_stress22\",\n",
    "    \"MockData.enum_stress23\",\n",
    "    \"MockData.enum_stress24\",\n",
    "    \"MockData.enum_stress25\",\n",
    "    \"MockData.enum_stress26\",\n",
    "    \"MockData.enum_stress27\",\n",
    "    \"MockData.enum_stress28\",\n",
    "    \"MockData.enum_stress29\",\n",
    "    \"MockData.enum_stress30\",\n",
    "    \"MockData.enum_stress31\",\n",
    "    \"MockData.enum_stress32\",\n",
    "    \"MockData.enum_stress33\",\n",
    "    \"MockData.enum_stress34\",\n",
    "    \"MockData.enum_stress35\",\n",
    "    \"MockData.enum_stress36\",\n",
    "    \"MockData.enum_stress37\",\n",
    "]\n",
    "logger.add_nodes(nodes, 50)\n",
    "logger.add_nodes(nodes1, 100)\n",
    "logger.add_nodes(nodes2, 50)"
   ]
  },
  {
   "cell_type": "code",
   "execution_count": null,
   "metadata": {},
   "outputs": [],
   "source": [
    "#logger._FLUSH_DOUBLE = 1024\n",
    "#logger._FLUSH_PERIOD_MSECS = 2000\n",
    "logger.start()\n",
    "time.sleep(120)\n",
    "logger.stop()"
   ]
  },
  {
   "cell_type": "code",
   "execution_count": null,
   "metadata": {},
   "outputs": [],
   "source": [
    "data = reader.Reader(logger.file)\n",
    "data.fill(\"MockData.bool\", logger.start_time, logger.stop_time)\n",
    "data.plot()"
   ]
  }
 ],
 "metadata": {
  "kernelspec": {
   "display_name": ".venv",
   "language": "python",
   "name": "python3"
  },
  "language_info": {
   "codemirror_mode": {
    "name": "ipython",
    "version": 3
   },
   "file_extension": ".py",
   "mimetype": "text/x-python",
   "name": "python",
   "nbconvert_exporter": "python",
   "pygments_lexer": "ipython3",
   "version": "3.10.12"
  },
  "orig_nbformat": 4
 },
 "nbformat": 4,
 "nbformat_minor": 2
}
