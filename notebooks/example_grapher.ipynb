{
 "cells": [
  {
   "cell_type": "markdown",
   "metadata": {},
   "source": [
    "Prerequisites: python and disq installed."
   ]
  },
  {
   "cell_type": "code",
   "execution_count": null,
   "metadata": {},
   "outputs": [],
   "source": [
    "from disq import hdf5_to_graph\n",
    "# Necessary for interactive graph window:\n",
    "%matplotlib qt\n",
    "\n",
    "# Create a Grapher object\n",
    "my_grapher = hdf5_to_graph.Grapher()"
   ]
  },
  {
   "cell_type": "code",
   "execution_count": null,
   "metadata": {},
   "outputs": [],
   "source": [
    "my_grapher.hdf5_info(\"./input_files/2023-10-13_16-48-37.hdf5\")"
   ]
  },
  {
   "cell_type": "code",
   "execution_count": null,
   "metadata": {},
   "outputs": [],
   "source": [
    "\n",
    "my_grapher.graph(\n",
    "    \"./input_files/2023-10-13_16-48-37.hdf5\",\n",
    "    \"MockData.bool\",\n",
    "    \"MockData.sine_value\",\n",
    ")\n"
   ]
  },
  {
   "cell_type": "code",
   "execution_count": null,
   "metadata": {},
   "outputs": [],
   "source": [
    "my_grapher.graph(\n",
    "    \"./input_files/2023-10-13_16-48-37.hdf5\",\n",
    "    \"MockData.increment\",\n",
    "    \"MockData.enum\",\n",
    "    start=\"2023-10-13T16:48:38\",\n",
    "    stop=\"2023-10-13T16:48:41\"\n",
    ")"
   ]
  },
  {
   "cell_type": "code",
   "execution_count": null,
   "metadata": {},
   "outputs": [],
   "source": [
    "my_grapher.graph(\n",
    "    \"./input_files/2023-10-13_16-48-37.hdf5\",\n",
    "    \"MockData.increment\",\n",
    "    \"MockData.enum\",\n",
    ")"
   ]
  }
 ],
 "metadata": {
  "kernelspec": {
   "display_name": ".venv",
   "language": "python",
   "name": "python3"
  },
  "language_info": {
   "codemirror_mode": {
    "name": "ipython",
    "version": 3
   },
   "file_extension": ".py",
   "mimetype": "text/x-python",
   "name": "python",
   "nbconvert_exporter": "python",
   "pygments_lexer": "ipython3",
   "version": "3.10.12"
  }
 },
 "nbformat": 4,
 "nbformat_minor": 2
}
